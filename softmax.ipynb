{
 "cells": [
  {
   "cell_type": "markdown",
   "metadata": {},
   "source": [
    "# Softmax exercise\n",
    "\n",
    "*Complete and hand in this completed worksheet (including its outputs and any supporting code outside of the worksheet) with your assignment submission. For more details see the [assignments page](http://vision.stanford.edu/teaching/cs231n/assignments.html) on the course website.*\n",
    "\n",
    "This exercise is analogous to the SVM exercise. You will:\n",
    "\n",
    "- implement a fully-vectorized **loss function** for the Softmax classifier\n",
    "- implement the fully-vectorized expression for its **analytic gradient**\n",
    "- **check your implementation** with numerical gradient\n",
    "- use a validation set to **tune the learning rate and regularization** strength\n",
    "- **optimize** the loss function with **SGD**\n",
    "- **visualize** the final learned weights\n"
   ]
  },
  {
   "cell_type": "code",
   "execution_count": 1,
   "metadata": {
    "collapsed": false
   },
   "outputs": [],
   "source": [
    "import random\n",
    "import numpy as np\n",
    "from data_utils import load_CIFAR10\n",
    "import matplotlib.pyplot as plt\n",
    "%matplotlib inline\n",
    "plt.rcParams['figure.figsize'] = (10.0, 8.0) # set default size of plots\n",
    "plt.rcParams['image.interpolation'] = 'nearest'\n",
    "plt.rcParams['image.cmap'] = 'gray'\n",
    "\n",
    "# for auto-reloading extenrnal modules\n",
    "# see http://stackoverflow.com/questions/1907993/autoreload-of-modules-in-ipython\n",
    "%load_ext autoreload\n",
    "%autoreload 2"
   ]
  },
  {
   "cell_type": "code",
   "execution_count": 3,
   "metadata": {
    "collapsed": false
   },
   "outputs": [
    {
     "name": "stdout",
     "output_type": "stream",
     "text": [
      "Train data shape:  (49000, 3073)\n",
      "Train labels shape:  (49000,)\n",
      "Validation data shape:  (1000, 3073)\n",
      "Validation labels shape:  (1000,)\n",
      "Test data shape:  (1000, 3073)\n",
      "Test labels shape:  (1000,)\n",
      "dev data shape:  (500, 3073)\n",
      "dev labels shape:  (500,)\n"
     ]
    }
   ],
   "source": [
    "def get_CIFAR10_data(num_training=49000, num_validation=1000, num_test=1000, num_dev=500):\n",
    "  \"\"\"\n",
    "  Load the CIFAR-10 dataset from disk and perform preprocessing to prepare\n",
    "  it for the linear classifier. These are the same steps as we used for the\n",
    "  SVM, but condensed to a single function.  \n",
    "  \"\"\"\n",
    "  # Load the raw CIFAR-10 data\n",
    "  cifar10_dir = 'cifar-10-batches-py'\n",
    "  X_train, y_train, X_test, y_test = load_CIFAR10(cifar10_dir)\n",
    "  \n",
    "  # subsample the data\n",
    "  mask = range(num_training, num_training + num_validation)\n",
    "  X_val = X_train[mask]\n",
    "  y_val = y_train[mask]\n",
    "  mask = range(num_training)\n",
    "  X_train = X_train[mask]\n",
    "  y_train = y_train[mask]\n",
    "  mask = range(num_test)\n",
    "  X_test = X_test[mask]\n",
    "  y_test = y_test[mask]\n",
    "  mask = np.random.choice(num_training, num_dev, replace=False)\n",
    "  X_dev = X_train[mask]\n",
    "  y_dev = y_train[mask]\n",
    "  \n",
    "  # Preprocessing: reshape the image data into rows\n",
    "  X_train = np.reshape(X_train, (X_train.shape[0], -1))\n",
    "  X_val = np.reshape(X_val, (X_val.shape[0], -1))\n",
    "  X_test = np.reshape(X_test, (X_test.shape[0], -1))\n",
    "  X_dev = np.reshape(X_dev, (X_dev.shape[0], -1))\n",
    "  \n",
    "  # Normalize the data: subtract the mean image\n",
    "  mean_image = np.mean(X_train, axis = 0)\n",
    "  X_train -= mean_image\n",
    "  X_val -= mean_image\n",
    "  X_test -= mean_image\n",
    "  X_dev -= mean_image\n",
    "  \n",
    "  # add bias dimension and transform into columns\n",
    "  X_train = np.hstack([X_train, np.ones((X_train.shape[0], 1))])\n",
    "  X_val = np.hstack([X_val, np.ones((X_val.shape[0], 1))])\n",
    "  X_test = np.hstack([X_test, np.ones((X_test.shape[0], 1))])\n",
    "  X_dev = np.hstack([X_dev, np.ones((X_dev.shape[0], 1))])\n",
    "  \n",
    "  return X_train, y_train, X_val, y_val, X_test, y_test, X_dev, y_dev\n",
    "\n",
    "\n",
    "# Invoke the above function to get our data.\n",
    "X_train, y_train, X_val, y_val, X_test, y_test, X_dev, y_dev = get_CIFAR10_data()\n",
    "print 'Train data shape: ', X_train.shape\n",
    "print 'Train labels shape: ', y_train.shape\n",
    "print 'Validation data shape: ', X_val.shape\n",
    "print 'Validation labels shape: ', y_val.shape\n",
    "print 'Test data shape: ', X_test.shape\n",
    "print 'Test labels shape: ', y_test.shape\n",
    "print 'dev data shape: ', X_dev.shape\n",
    "print 'dev labels shape: ', y_dev.shape"
   ]
  },
  {
   "cell_type": "markdown",
   "metadata": {},
   "source": [
    "## Softmax Classifier\n",
    "\n",
    "Your code for this section will all be written inside **classifiers/softmax.py**. \n"
   ]
  },
  {
   "cell_type": "code",
   "execution_count": 74,
   "metadata": {
    "collapsed": false
   },
   "outputs": [
    {
     "name": "stdout",
     "output_type": "stream",
     "text": [
      "loss: 2.351839\n",
      "sanity check: 2.302585\n"
     ]
    }
   ],
   "source": [
    "# First implement the naive softmax loss function with nested loops.\n",
    "# Open the file classifiers/softmax.py and implement the\n",
    "# softmax_loss_naive function.\n",
    "\n",
    "from classifiers.softmax import softmax_loss_naive\n",
    "import time\n",
    "\n",
    "# Generate a random softmax weight matrix and use it to compute the loss.\n",
    "W = np.random.randn(3073, 10) * 0.0001\n",
    "loss, grad = softmax_loss_naive(W, X_dev, y_dev, 0.0)\n",
    "\n",
    "# As a rough sanity check, our loss should be something close to -log(0.1).\n",
    "print 'loss: %f' % loss\n",
    "print 'sanity check: %f' % (-np.log(0.1))"
   ]
  },
  {
   "cell_type": "markdown",
   "metadata": {},
   "source": [
    "## Inline Question 1:\n",
    "Why do we expect our loss to be close to -log(0.1)? Explain briefly.**\n",
    "\n",
    "**Your answer:** *10 classes with each approx 1/10 chances of being labeled by chance*\n"
   ]
  },
  {
   "cell_type": "code",
   "execution_count": 77,
   "metadata": {
    "collapsed": false
   },
   "outputs": [
    {
     "name": "stdout",
     "output_type": "stream",
     "text": [
      "(626, 0)\n",
      "numerical: -4.486762 analytic: -4.486763, relative error: 1.063280e-08\n",
      "(302, 6)\n",
      "numerical: 1.098631 analytic: 1.098631, relative error: 1.832210e-08\n",
      "(733, 9)\n",
      "numerical: -1.219422 analytic: -1.219422, relative error: 3.251936e-08\n",
      "(2780, 7)\n",
      "numerical: 0.585781 analytic: 0.585781, relative error: 2.326912e-07\n",
      "(321, 9)\n",
      "numerical: -1.132737 analytic: -1.132737, relative error: 3.646628e-08\n",
      "(1092, 3)\n",
      "numerical: 0.983917 analytic: 0.983917, relative error: 3.528954e-09\n",
      "(969, 2)\n",
      "numerical: 0.896732 analytic: 0.896732, relative error: 8.058496e-09\n",
      "(661, 7)\n",
      "numerical: 1.015357 analytic: 1.015357, relative error: 3.834599e-08\n",
      "(2986, 2)\n",
      "numerical: -0.597232 analytic: -0.597232, relative error: 5.363359e-08\n",
      "(2841, 3)\n",
      "numerical: -1.178502 analytic: -1.178502, relative error: 7.187749e-10\n",
      "(2981, 9)\n",
      "numerical: -1.049098 analytic: -1.049098, relative error: 1.309730e-07\n",
      "(1660, 0)\n",
      "numerical: -0.781469 analytic: -0.781469, relative error: 3.052324e-08\n",
      "(2571, 5)\n",
      "numerical: -1.565804 analytic: -1.565804, relative error: 2.285594e-08\n",
      "(171, 0)\n",
      "numerical: -1.056576 analytic: -1.056576, relative error: 5.960181e-09\n",
      "(303, 8)\n",
      "numerical: -1.848248 analytic: -1.848248, relative error: 8.166752e-09\n",
      "(2154, 5)\n",
      "numerical: -3.372448 analytic: -3.372448, relative error: 7.028932e-09\n",
      "(2400, 8)\n",
      "numerical: 2.412540 analytic: 2.412540, relative error: 6.506395e-10\n",
      "(2230, 5)\n",
      "numerical: -3.100930 analytic: -3.100930, relative error: 1.446334e-08\n",
      "(1586, 2)\n",
      "numerical: 1.127440 analytic: 1.127440, relative error: 6.095788e-08\n",
      "(481, 9)\n",
      "numerical: -1.765299 analytic: -1.765299, relative error: 4.875956e-08\n"
     ]
    }
   ],
   "source": [
    "# Complete the implementation of softmax_loss_naive and implement a (naive)\n",
    "# version of the gradient that uses nested loops.\n",
    "loss, grad = softmax_loss_naive(W, X_dev, y_dev, 0.0)\n",
    "\n",
    "# As we did for the SVM, use numeric gradient checking as a debugging tool.\n",
    "# The numeric gradient should be close to the analytic gradient.\n",
    "from gradient_check import grad_check_sparse\n",
    "f = lambda w: softmax_loss_naive(w, X_dev, y_dev, 0.0)[0]\n",
    "grad_numerical = grad_check_sparse(f, W, grad, 10)\n",
    "\n",
    "# similar to SVM case, do another gradient check with regularization\n",
    "loss, grad = softmax_loss_naive(W, X_dev, y_dev, 1e2)\n",
    "f = lambda w: softmax_loss_naive(w, X_dev, y_dev, 1e2)[0]\n",
    "grad_numerical = grad_check_sparse(f, W, grad, 10)"
   ]
  },
  {
   "cell_type": "code",
   "execution_count": 78,
   "metadata": {
    "collapsed": false
   },
   "outputs": [
    {
     "name": "stdout",
     "output_type": "stream",
     "text": [
      "(3073, 10)\n"
     ]
    }
   ],
   "source": [
    "print grad.shape"
   ]
  },
  {
   "cell_type": "code",
   "execution_count": 103,
   "metadata": {
    "collapsed": false
   },
   "outputs": [
    {
     "name": "stdout",
     "output_type": "stream",
     "text": [
      "naive loss: 2.351839e+00 computed in 0.293854s\n",
      "vectorized loss: 2.351839e+00 computed in 0.015184s\n",
      "Loss difference: 0.000000\n",
      "Gradient difference: 0.000000\n"
     ]
    }
   ],
   "source": [
    "# Now that we have a naive implementation of the softmax loss function and its gradient,\n",
    "# implement a vectorized version in softmax_loss_vectorized.\n",
    "# The two versions should compute the same results, but the vectorized version should be\n",
    "# much faster.\n",
    "tic = time.time()\n",
    "loss_naive, grad_naive = softmax_loss_naive(W, X_dev, y_dev, 0.00001)\n",
    "toc = time.time()\n",
    "print 'naive loss: %e computed in %fs' % (loss_naive, toc - tic)\n",
    "\n",
    "from classifiers.softmax import softmax_loss_vectorized\n",
    "tic = time.time()\n",
    "loss_vectorized, grad_vectorized = softmax_loss_vectorized(W, X_dev, y_dev, 0.00001)\n",
    "toc = time.time()\n",
    "print 'vectorized loss: %e computed in %fs' % (loss_vectorized, toc - tic)\n",
    "\n",
    "# As we did for the SVM, we use the Frobenius norm to compare the two versions\n",
    "# of the gradient.\n",
    "grad_difference = np.linalg.norm(grad_naive - grad_vectorized, ord='fro')\n",
    "print 'Loss difference: %f' % np.abs(loss_naive - loss_vectorized)\n",
    "print 'Gradient difference: %f' % grad_difference"
   ]
  },
  {
   "cell_type": "code",
   "execution_count": 110,
   "metadata": {
    "collapsed": false
   },
   "outputs": [
    {
     "name": "stdout",
     "output_type": "stream",
     "text": [
      "lr 1.000000e-07 reg 7.000000e+04 train accuracy: 0.320367 val accuracy: 0.334000\n",
      "lr 1.000000e-07 reg 8.000000e+04 train accuracy: 0.309082 val accuracy: 0.328000\n",
      "lr 1.000000e-07 reg 9.000000e+04 train accuracy: 0.313551 val accuracy: 0.328000\n",
      "lr 1.000000e-07 reg 1.000000e+05 train accuracy: 0.306816 val accuracy: 0.323000\n",
      "lr 1.000000e-07 reg 2.000000e+05 train accuracy: 0.287143 val accuracy: 0.305000\n",
      "lr 1.000000e-07 reg 3.000000e+05 train accuracy: 0.288653 val accuracy: 0.298000\n",
      "lr 1.000000e-07 reg 4.000000e+05 train accuracy: 0.278633 val accuracy: 0.296000\n",
      "lr 2.000000e-07 reg 7.000000e+04 train accuracy: 0.308673 val accuracy: 0.325000\n",
      "lr 2.000000e-07 reg 8.000000e+04 train accuracy: 0.311041 val accuracy: 0.323000\n",
      "lr 2.000000e-07 reg 9.000000e+04 train accuracy: 0.300347 val accuracy: 0.322000\n",
      "lr 2.000000e-07 reg 1.000000e+05 train accuracy: 0.308347 val accuracy: 0.327000\n",
      "lr 2.000000e-07 reg 2.000000e+05 train accuracy: 0.282224 val accuracy: 0.290000\n",
      "lr 2.000000e-07 reg 3.000000e+05 train accuracy: 0.265367 val accuracy: 0.278000\n",
      "lr 2.000000e-07 reg 4.000000e+05 train accuracy: 0.276224 val accuracy: 0.296000\n",
      "lr 3.000000e-07 reg 7.000000e+04 train accuracy: 0.314714 val accuracy: 0.330000\n",
      "lr 3.000000e-07 reg 8.000000e+04 train accuracy: 0.310163 val accuracy: 0.333000\n",
      "lr 3.000000e-07 reg 9.000000e+04 train accuracy: 0.312857 val accuracy: 0.335000\n",
      "lr 3.000000e-07 reg 1.000000e+05 train accuracy: 0.304980 val accuracy: 0.312000\n",
      "lr 3.000000e-07 reg 2.000000e+05 train accuracy: 0.290061 val accuracy: 0.280000\n",
      "lr 3.000000e-07 reg 3.000000e+05 train accuracy: 0.257306 val accuracy: 0.276000\n",
      "lr 3.000000e-07 reg 4.000000e+05 train accuracy: 0.262490 val accuracy: 0.271000\n",
      "lr 4.000000e-07 reg 7.000000e+04 train accuracy: 0.315327 val accuracy: 0.327000\n",
      "lr 4.000000e-07 reg 8.000000e+04 train accuracy: 0.301204 val accuracy: 0.322000\n",
      "lr 4.000000e-07 reg 9.000000e+04 train accuracy: 0.305714 val accuracy: 0.321000\n",
      "lr 4.000000e-07 reg 1.000000e+05 train accuracy: 0.304837 val accuracy: 0.316000\n",
      "lr 4.000000e-07 reg 2.000000e+05 train accuracy: 0.286408 val accuracy: 0.301000\n",
      "lr 4.000000e-07 reg 3.000000e+05 train accuracy: 0.283898 val accuracy: 0.287000\n",
      "lr 4.000000e-07 reg 4.000000e+05 train accuracy: 0.253837 val accuracy: 0.267000\n",
      "lr 5.000000e-07 reg 7.000000e+04 train accuracy: 0.307898 val accuracy: 0.310000\n",
      "lr 5.000000e-07 reg 8.000000e+04 train accuracy: 0.316510 val accuracy: 0.332000\n",
      "lr 5.000000e-07 reg 9.000000e+04 train accuracy: 0.310898 val accuracy: 0.323000\n",
      "lr 5.000000e-07 reg 1.000000e+05 train accuracy: 0.306224 val accuracy: 0.316000\n",
      "lr 5.000000e-07 reg 2.000000e+05 train accuracy: 0.287918 val accuracy: 0.305000\n",
      "lr 5.000000e-07 reg 3.000000e+05 train accuracy: 0.257714 val accuracy: 0.273000\n",
      "lr 5.000000e-07 reg 4.000000e+05 train accuracy: 0.275224 val accuracy: 0.284000\n",
      "lr 6.000000e-07 reg 7.000000e+04 train accuracy: 0.314980 val accuracy: 0.324000\n",
      "lr 6.000000e-07 reg 8.000000e+04 train accuracy: 0.311939 val accuracy: 0.319000\n",
      "lr 6.000000e-07 reg 9.000000e+04 train accuracy: 0.294673 val accuracy: 0.303000\n",
      "lr 6.000000e-07 reg 1.000000e+05 train accuracy: 0.297163 val accuracy: 0.312000\n",
      "lr 6.000000e-07 reg 2.000000e+05 train accuracy: 0.288714 val accuracy: 0.304000\n",
      "lr 6.000000e-07 reg 3.000000e+05 train accuracy: 0.264367 val accuracy: 0.277000\n",
      "lr 6.000000e-07 reg 4.000000e+05 train accuracy: 0.250939 val accuracy: 0.271000\n",
      "lr 7.000000e-07 reg 7.000000e+04 train accuracy: 0.321163 val accuracy: 0.333000\n",
      "lr 7.000000e-07 reg 8.000000e+04 train accuracy: 0.313592 val accuracy: 0.326000\n",
      "lr 7.000000e-07 reg 9.000000e+04 train accuracy: 0.299061 val accuracy: 0.312000\n",
      "lr 7.000000e-07 reg 1.000000e+05 train accuracy: 0.309612 val accuracy: 0.314000\n",
      "lr 7.000000e-07 reg 2.000000e+05 train accuracy: 0.267939 val accuracy: 0.265000\n",
      "lr 7.000000e-07 reg 3.000000e+05 train accuracy: 0.268082 val accuracy: 0.277000\n",
      "lr 7.000000e-07 reg 4.000000e+05 train accuracy: 0.260163 val accuracy: 0.282000\n",
      "lr 8.000000e-07 reg 7.000000e+04 train accuracy: 0.307306 val accuracy: 0.336000\n",
      "lr 8.000000e-07 reg 8.000000e+04 train accuracy: 0.308347 val accuracy: 0.324000\n",
      "lr 8.000000e-07 reg 9.000000e+04 train accuracy: 0.309837 val accuracy: 0.323000\n",
      "lr 8.000000e-07 reg 1.000000e+05 train accuracy: 0.298143 val accuracy: 0.318000\n",
      "lr 8.000000e-07 reg 2.000000e+05 train accuracy: 0.273449 val accuracy: 0.295000\n",
      "lr 8.000000e-07 reg 3.000000e+05 train accuracy: 0.268082 val accuracy: 0.271000\n",
      "lr 8.000000e-07 reg 4.000000e+05 train accuracy: 0.261796 val accuracy: 0.281000\n",
      "lr 9.000000e-07 reg 7.000000e+04 train accuracy: 0.306673 val accuracy: 0.316000\n",
      "lr 9.000000e-07 reg 8.000000e+04 train accuracy: 0.311592 val accuracy: 0.315000\n",
      "lr 9.000000e-07 reg 9.000000e+04 train accuracy: 0.304408 val accuracy: 0.317000\n",
      "lr 9.000000e-07 reg 1.000000e+05 train accuracy: 0.305510 val accuracy: 0.303000\n",
      "lr 9.000000e-07 reg 2.000000e+05 train accuracy: 0.264184 val accuracy: 0.279000\n",
      "lr 9.000000e-07 reg 3.000000e+05 train accuracy: 0.262551 val accuracy: 0.269000\n",
      "lr 9.000000e-07 reg 4.000000e+05 train accuracy: 0.240245 val accuracy: 0.244000\n",
      "best validation accuracy achieved during cross-validation: 0.336000\n"
     ]
    }
   ],
   "source": [
    "# Use the validation set to tune hyperparameters (regularization strength and\n",
    "# learning rate). You should experiment with different ranges for the learning\n",
    "# rates and regularization strengths; if you are careful you should be able to\n",
    "# get a classification accuracy of over 0.35 on the validation set.\n",
    "from classifiers import Softmax\n",
    "results = {}\n",
    "best_val = -1\n",
    "best_softmax = None\n",
    "# learning_rates = [1e-7, 5e-7]\n",
    "# regularization_strengths = [5e4, 1e8]\n",
    "\n",
    "# learning_rates = [9e-7, 3e-7, 1e-7, 8e-6]\n",
    "learning_rates = [x * 1e-7 for x in range(1, 10)]\n",
    "# regularization_strengths = [1e4, 5e4, 3e4]\n",
    "# regularization_strengths = [x * 1e4 for x in range(1, 10)]\n",
    "regularization_strengths = [7e4, 8e4, 9e4, 1e5, 2e5, 3e5, 4e5]\n",
    "num_iters = 1500\n",
    "\n",
    "################################################################################\n",
    "# TODO:                                                                        #\n",
    "# Use the validation set to set the learning rate and regularization strength. #\n",
    "# This should be identical to the validation that you did for the SVM; save    #\n",
    "# the best trained softmax classifer in best_softmax.                          #\n",
    "################################################################################\n",
    "\n",
    "# for lr, rg in learning_rates, regularization_strengths:\n",
    "for lr in learning_rates:\n",
    "    for rg in regularization_strengths:\n",
    "        softm = Softmax()\n",
    "        loss_hist = softm.train(X_train, y_train, learning_rate=lr, reg=rg,\n",
    "                      num_iters=num_iters, verbose=False)\n",
    "        y_train_pred = softm.predict(X_train)\n",
    "        train_acc = np.mean(y_train == y_train_pred)\n",
    "        y_val_pred = softm.predict(X_val)\n",
    "        val_acc = np.mean(y_val == y_val_pred)\n",
    "        results[(lr, rg)] = (train_acc, val_acc)\n",
    "        if val_acc > best_val:\n",
    "            best_val = val_acc\n",
    "            best_softmax = softm\n",
    "\n",
    "################################################################################\n",
    "#                              END OF YOUR CODE                                #\n",
    "################################################################################\n",
    "    \n",
    "# Print out results.\n",
    "for lr, reg in sorted(results):\n",
    "    train_accuracy, val_accuracy = results[(lr, reg)]\n",
    "    print 'lr %e reg %e train accuracy: %f val accuracy: %f' % (\n",
    "                lr, reg, train_accuracy, val_accuracy)\n",
    "    \n",
    "print 'best validation accuracy achieved during cross-validation: %f' % best_val"
   ]
  },
  {
   "cell_type": "code",
   "execution_count": 111,
   "metadata": {
    "collapsed": false
   },
   "outputs": [
    {
     "name": "stdout",
     "output_type": "stream",
     "text": [
      "softmax on raw pixels final test set accuracy: 0.328000\n"
     ]
    }
   ],
   "source": [
    "# evaluate on test set\n",
    "# Evaluate the best softmax on test set\n",
    "y_test_pred = best_softmax.predict(X_test)\n",
    "test_accuracy = np.mean(y_test == y_test_pred)\n",
    "print 'softmax on raw pixels final test set accuracy: %f' % (test_accuracy, )"
   ]
  },
  {
   "cell_type": "code",
   "execution_count": 112,
   "metadata": {
    "collapsed": false
   },
   "outputs": [
    {
     "data": {
      "image/png": "[encoded data removed]",
      "text/plain": [
       "<matplotlib.figure.Figure at 0x7fda3e18c310>"
      ]
     },
     "metadata": {},
     "output_type": "display_data"
    }
   ],
   "source": [
    "# Visualize the learned weights for each class\n",
    "w = best_softmax.W[:-1,:] # strip out the bias\n",
    "w = w.reshape(32, 32, 3, 10)\n",
    "\n",
    "w_min, w_max = np.min(w), np.max(w)\n",
    "\n",
    "classes = ['plane', 'car', 'bird', 'cat', 'deer', 'dog', 'frog', 'horse', 'ship', 'truck']\n",
    "for i in xrange(10):\n",
    "  plt.subplot(2, 5, i + 1)\n",
    "  \n",
    "  # Rescale the weights to be between 0 and 255\n",
    "  wimg = 255.0 * (w[:, :, :, i].squeeze() - w_min) / (w_max - w_min)\n",
    "  plt.imshow(wimg.astype('uint8'))\n",
    "  plt.axis('off')\n",
    "  plt.title(classes[i])"
   ]
  },
  {
   "cell_type": "code",
   "execution_count": null,
   "metadata": {
    "collapsed": true
   },
   "outputs": [],
   "source": []
  }
 ],
 "metadata": {
  "anaconda-cloud": {},
  "kernelspec": {
   "display_name": "Python [default]",
   "language": "python",
   "name": "python2"
  },
  "language_info": {
   "codemirror_mode": {
    "name": "ipython",
    "version": 2
   },
   "file_extension": ".py",
   "mimetype": "text/x-python",
   "name": "python",
   "nbconvert_exporter": "python",
   "pygments_lexer": "ipython2",
   "version": "2.7.12"
  }
 },
 "nbformat": 4,
 "nbformat_minor": 0
}
